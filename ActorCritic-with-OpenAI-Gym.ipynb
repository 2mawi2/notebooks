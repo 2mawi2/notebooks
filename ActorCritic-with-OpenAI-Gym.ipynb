{
 "cells": [
  {
   "cell_type": "markdown",
   "metadata": {},
   "source": [
    "# Actor Critic with OpenAI Gym\n",
    "\n",
    "\n",
    "This tutorial was inspired by [Outlace's excelent blog entry on Q-Learning](http://outlace.com/Reinforcement-Learning-Part-3/) and this is the [starting point](https://www2.informatik.uni-hamburg.de/~weber/code/ActorCritic.py) for my Actor Critic implementation.\n",
    "\n",
    "I got interested in Actor-Critic reinforcement learning after skimming DeepMind's follow-up to their original Atari paper. The new paper [Asynchronous Methods for Deep Reinforcement Learning](http://arxiv.org/abs/1602.01783) uses an Actor/Critic learning implementation to surpass the performance of their original Deep Q-Network. I couldn't find a good straightforward implementation/example of it.\n",
    "\n",
    "For a slightly more in-depth explination check out [Actor-Critic Methods](https://webdocs.cs.ualberta.ca/~sutton/book/ebook/node66.html) from the book 'Reinforcement Learning: An Introduction' by Sutton and Barto\n",
    "\n",
    "This will be a basic example of using Actor Critic methods to solve a simple reinforcement learning problem from OpenAI Gym\n",
    "\n",
    "Couple thing's we have here:\n",
    "\n",
    "* Actor Critic\n",
    "* Neural Networks as Function Approximators for both Actor and Critic\n",
    "* Experience Replay to avoid catestrophic forgetting\n",
    "\n",
    "If you are running the ipython notebook this tutorial expects you to have [OpenAI Gym](https://gym.openai.com/docs) and [Keras](https://github.com/fchollet/keras) installed."
   ]
  },
  {
   "cell_type": "markdown",
   "metadata": {},
   "source": [
    "## Lets get to coding...\n",
    "\n",
    "We are going to start off with some bookkeeping - importing the components we need."
   ]
  },
  {
   "cell_type": "code",
   "execution_count": 6,
   "metadata": {
    "collapsed": false,
    "scrolled": true
   },
   "outputs": [
    {
     "name": "stdout",
     "output_type": "stream",
     "text": [
      "Populating the interactive namespace from numpy and matplotlib\n"
     ]
    }
   ],
   "source": [
    "%pylab inline\n",
    "# Just some initial setup and imports\n",
    "import logging\n",
    "logger = logging.getLogger()\n",
    "logger.setLevel(logging.ERROR)\n",
    "from IPython.display import clear_output\n",
    "import time\n",
    "import numpy as np\n",
    "import math\n",
    "import gym"
   ]
  },
  {
   "cell_type": "markdown",
   "metadata": {},
   "source": [
    "For the environment our agent is going to interact with we'll use the OpenAI Gym, and use a variation of an existing environment 'Frozen Lake' - however we're going to make a version which does not include slipery ice."
   ]
  },
  {
   "cell_type": "code",
   "execution_count": 7,
   "metadata": {
    "collapsed": false,
    "scrolled": true
   },
   "outputs": [
    {
     "name": "stderr",
     "output_type": "stream",
     "text": [
      "INFO:gym.envs.registration:Making new env: FrozenLakeNonskid8x8-v0\n",
      "[2016-06-08 20:57:25,238] Making new env: FrozenLakeNonskid8x8-v0\n"
     ]
    }
   ],
   "source": [
    "# Create a non-skid version of Frozen Lake\n",
    "from gym.envs.registration import register, spec\n",
    "\n",
    "MY_ENV_NAME='FrozenLakeNonskid8x8-v0'\n",
    "try:\n",
    "    spec(MY_ENV_NAME)\n",
    "except:\n",
    "    register(\n",
    "        id=MY_ENV_NAME,\n",
    "        entry_point='gym.envs.toy_text:FrozenLakeEnv',\n",
    "        kwargs={'map_name': '8x8', 'is_slippery': False},\n",
    "        timestep_limit=100,\n",
    "        reward_threshold=0.78, # optimum = .8196\n",
    "    )\n",
    "env = gym.make(MY_ENV_NAME)"
   ]
  },
  {
   "cell_type": "markdown",
   "metadata": {},
   "source": [
    "I'll define some constants, to make the code clearer and easier later. The constants```OBSERVATION_SPACE``` and ```ACTION_SPACE``` come from OpenAI gym. For this problem each of these is just a single integer. I then define a constant ```OBS_SQR``` and ```STATEGRID``` which will help when we create visualizations showing the square grid of our gridworld. These constants are not needed for the learner.\n",
    "\n",
    "Finally I create a helper which will allow us to convert the observation from OpenAI Gym, from an integer, like 64, to a one-hot encoding - which is better for a neural network to consume.\n"
   ]
  },
  {
   "cell_type": "code",
   "execution_count": 8,
   "metadata": {
    "collapsed": true
   },
   "outputs": [],
   "source": [
    "# This helper is for later. \n",
    "def to_onehot(size,value):\n",
    "  my_onehot = np.zeros((size))\n",
    "  my_onehot[value] = 1.0\n",
    "  return my_onehot\n",
    "\n",
    "OBSERVATION_SPACE = env.observation_space.n\n",
    "ACTION_SPACE = env.action_space.n\n",
    "\n",
    "# Assume gridworld is always square\n",
    "OBS_SQR= int(math.sqrt(OBSERVATION_SPACE))\n",
    "STATEGRID = np.zeros((OBS_SQR,OBS_SQR))"
   ]
  },
  {
   "cell_type": "markdown",
   "metadata": {},
   "source": [
    "### The Actor\n",
    "\n",
    "In Actor/Critic there are two networks. The 'policy' network (the Actor) and the 'value' network (the Critic). You will recognize the policy network as being essentially the same as the network from the Q-Learning example referenced above."
   ]
  },
  {
   "cell_type": "code",
   "execution_count": 9,
   "metadata": {
    "collapsed": false
   },
   "outputs": [],
   "source": [
    "from keras.models import Sequential\n",
    "from keras.layers.core import Dense, Dropout, Activation\n",
    "from keras.optimizers import RMSprop\n",
    "\n",
    "actor_model = Sequential()\n",
    "actor_model.add(Dense(164, init='lecun_uniform', input_shape=(OBSERVATION_SPACE,)))\n",
    "actor_model.add(Activation('relu'))\n",
    "\n",
    "actor_model.add(Dense(150, init='lecun_uniform'))\n",
    "actor_model.add(Activation('relu'))\n",
    "\n",
    "actor_model.add(Dense(ACTION_SPACE, init='lecun_uniform'))\n",
    "actor_model.add(Activation('linear'))\n",
    "\n",
    "rms = RMSprop()\n",
    "actor_model.compile(loss='mse', optimizer=rms)"
   ]
  },
  {
   "cell_type": "markdown",
   "metadata": {},
   "source": [
    "### The Critic\n",
    "Next, we set up the Critic network. This network looks very similar to the Actor model, but only outputs a single value - it outputs a value (the score) for the input state."
   ]
  },
  {
   "cell_type": "code",
   "execution_count": 10,
   "metadata": {
    "collapsed": true
   },
   "outputs": [],
   "source": [
    "critic_model = Sequential()\n",
    "\n",
    "critic_model.add(Dense(256, init='lecun_uniform', input_shape=(OBSERVATION_SPACE,)))\n",
    "critic_model.add(Activation('relu'))\n",
    "\n",
    "critic_model.add(Dense(128, init='lecun_uniform'))\n",
    "critic_model.add(Activation('relu'))\n",
    "\n",
    "critic_model.add(Dense(64, init='lecun_uniform'))\n",
    "critic_model.add(Activation('relu'))\n",
    "\n",
    "critic_model.add(Dense(1, init='lecun_uniform', activation='linear' ))\n",
    "\n",
    "rms = RMSprop()\n",
    "critic_model.compile(loss='mse', optimizer=rms)"
   ]
  },
  {
   "cell_type": "markdown",
   "metadata": {},
   "source": [
    "Now we'll add a nice helper function to show what value the Critic gives to being in certain states. The critic starts out uninitialized and will just give random values for any given state."
   ]
  },
  {
   "cell_type": "code",
   "execution_count": 11,
   "metadata": {
    "collapsed": false
   },
   "outputs": [
    {
     "name": "stdout",
     "output_type": "stream",
     "text": [
      "\u001b[41mS\u001b[0mFFFFFFF\n",
      "FFFFFFFF\n",
      "FFFHFFFF\n",
      "FFFFFHFF\n",
      "FFFHFFFF\n",
      "FHHFFFHF\n",
      "FHFFHFHF\n",
      "FFFHFFFG\n",
      "\n"
     ]
    },
    {
     "data": {
      "image/png": "[encoded data removed]",
      "text/plain": [
       "<matplotlib.figure.Figure at 0xaa90400>"
      ]
     },
     "metadata": {},
     "output_type": "display_data"
    }
   ],
   "source": [
    "# Plot out the values the critic gives for the agent being in\n",
    "# a specific state, i.e. in a specific location in the env.\n",
    "def plot_value(initial_state):\n",
    "    # Assume gridworld is always a square\n",
    "    obs_sqr = math.sqrt(OBSERVATION_SPACE)\n",
    "    np_w_cri_r = np.zeros((OBS_SQR,OBS_SQR))\n",
    "    # make a working copy.\n",
    "    working_state = initial_state.copy()\n",
    "    for x in range(0,OBS_SQR):\n",
    "        for y in range(0,OBS_SQR):\n",
    "            my_state = working_state.copy()\n",
    "            # Place the player at a given X/Y location.\n",
    "            my_state[x,y] = 1\n",
    "            # And now have the critic model predict the state value\n",
    "            # with the player in that location.\n",
    "            value = critic_model.predict(my_state.reshape(1, OBSERVATION_SPACE))\n",
    "            np_w_cri_r[x,y] = value\n",
    "    np_w_cri_r.shape\n",
    "    pylab.pcolor(np_w_cri_r)\n",
    "    pylab.title(\"Value Network\")\n",
    "    pylab.colorbar()\n",
    "    pylab.xlabel(\"X\")\n",
    "    pylab.ylabel(\"Y\")\n",
    "    pylab.gca().invert_yaxis()\n",
    "    pylab.draw()\n",
    "\n",
    "\n",
    "env.reset()\n",
    "env.render()\n",
    "plot_value(STATEGRID)"
   ]
  },
  {
   "cell_type": "markdown",
   "metadata": {},
   "source": [
    "This may not be neccisary, or even possible in all cases - but in this case we can zero-out the Critic network, so that all states start with a value of Zero. This should help it converge later when it sees real training data."
   ]
  },
  {
   "cell_type": "code",
   "execution_count": 12,
   "metadata": {
    "collapsed": false
   },
   "outputs": [
    {
     "name": "stdout",
     "output_type": "stream",
     "text": [
      "Zeroing out critic network...\n",
      "Done!\n"
     ]
    },
    {
     "data": {
      "image/png": "[encoded data removed]",
      "text/plain": [
       "<matplotlib.figure.Figure at 0xaa90208>"
      ]
     },
     "metadata": {},
     "output_type": "display_data"
    }
   ],
   "source": [
    "def zero_critic(epochs=100):\n",
    "    for i in range(epochs):\n",
    "        for j in range(OBSERVATION_SPACE):\n",
    "            X_train = []\n",
    "            y_train = []\n",
    "            \n",
    "            y = np.empty([1])\n",
    "            y[0]=0.0\n",
    "            x = to_onehot(OBSERVATION_SPACE,j)\n",
    "            X_train.append(x.reshape((OBSERVATION_SPACE,)))\n",
    "            y_train.append(y.reshape((1,)))\n",
    "            X_train = np.array(X_train)\n",
    "            y_train = np.array(y_train)\n",
    "            critic_model.fit(X_train, y_train, batch_size=1, nb_epoch=1, verbose=0)\n",
    "\n",
    "print(\"Zeroing out critic network...\")\n",
    "sys.stdout.flush()\n",
    "zero_critic()\n",
    "print(\"Done!\")\n",
    "plot_value(STATEGRID)"
   ]
  },
  {
   "cell_type": "markdown",
   "metadata": {},
   "source": [
    "# The Trainer\n",
    "\n",
    "The trainer is implemented below. Items of note.\n",
    "* __early stopping__ the trainer implements early-stopping. If the game is winning a given percentage of the time (99% is the default) then the trainer will stop early. No point training any further.\n",
    "* __experience replay__ essentially the same as the example in the Q-learning tutorial. However we replay both the Actor and the Critic's experiences\n",
    "\n",
    "The big main new things here are the split of the Critic network, and state values, from the Actor, and action selection.\n",
    "\n",
    "To train the critic network, we use a simlar process to training value into Q networks. We look at the initial state, make a move, and then look at the new state. For the value network, if we are in a terminal state, that's the value we tell the value network to place on that state. If we are in a non-terminal state, we tell the value network to place a value on the original state which is the reward in the original state, plus the discounted value from the new state. Note that the value network should return the maximum possible value for a given state. If the player's next move could be either jumping into the pit or arriving at the goal, we should set the value as if the best-possible action will be selected.\n",
    "\n",
    "After the critic network has assigned a value to the original and the new state, we adjust the policy. This is simply by looking at our value in our old state, and the value in the new state. If the value improves we encourage that action. If it decreases we discourage the action.\n",
    "\n",
    "When we start training, both the actor and the critic networks are spitting out nonsensical values. Which means initially the actor network is training on values from the critic network which are garbage. However as the critic network improves, those improvements naturally correct and improve the performance of the actor network.\n"
   ]
  },
  {
   "cell_type": "code",
   "execution_count": 13,
   "metadata": {
    "collapsed": false
   },
   "outputs": [],
   "source": [
    "from IPython.display import clear_output\n",
    "import random\n",
    "import time\n",
    "\n",
    "def trainer(epochs=1000, batchSize=40, \n",
    "            gamma=0.9, epsilon=1, min_epsilon=0.1,\n",
    "            buffer=80,earlystop=0.99):\n",
    "\n",
    "    status = 1\n",
    "    \n",
    "    # Early-stopping.\n",
    "    earlystop_acc = 0.0\n",
    "    earlystop_decay = 0.9\n",
    "    \n",
    "    wins = 0\n",
    "    losses = 0\n",
    "    # Replay buffers\n",
    "    actor_replay = []\n",
    "    critic_replay = []\n",
    "    \n",
    "    for i in range(epochs):\n",
    "\n",
    "        observation = env.reset()\n",
    "        done = False\n",
    "        reward = 0\n",
    "        info = None\n",
    "        #observation, reward, done, info = env.step(action)\n",
    "\n",
    "        #status = 1\n",
    "        #while game still in progress\n",
    "        while(not done):\n",
    "            # Get original state, original reward, and critic's value for this state.\n",
    "            orig_state = to_onehot(OBSERVATION_SPACE,observation)\n",
    "            orig_reward = reward\n",
    "            orig_val = critic_model.predict(orig_state.reshape(1,OBSERVATION_SPACE))\n",
    "\n",
    "            if (random.random() < epsilon): #choose random action\n",
    "                action = np.random.randint(0,ACTION_SPACE)\n",
    "            else: #choose best action from Q(s,a) values\n",
    "                qval = actor_model.predict( orig_state.reshape(1,OBSERVATION_SPACE) )\n",
    "                action = (np.argmax(qval))\n",
    "                \n",
    "            #Take action, observe new state S'\n",
    "            new_observation, new_reward, done, info = env.step(action)\n",
    "            new_state = to_onehot(OBSERVATION_SPACE,new_observation)\n",
    "            # Critic's value for this new state.\n",
    "            new_val = critic_model.predict(new_state.reshape(1,OBSERVATION_SPACE))\n",
    "            \n",
    "            if not done: # Non-terminal state.\n",
    "                target = orig_reward + ( gamma * new_val)\n",
    "            else:\n",
    "                # In terminal states, the environment tells us\n",
    "                # the value directly.\n",
    "                target = orig_reward + ( gamma * new_reward )\n",
    "            \n",
    "            # For our critic, we select the best/highest value.. The\n",
    "            # value for this state is based on if the agent selected\n",
    "            # the best possible moves from this state forward.\n",
    "            # \n",
    "            # BTW, we discount an original value provided by the\n",
    "            # value network, to handle cases where its spitting\n",
    "            # out unreasonably high values.. naturally decaying\n",
    "            # these values to something reasonable.\n",
    "            best_val = max((orig_val*gamma), target)\n",
    "\n",
    "            # Now append this to our critic replay buffer.\n",
    "            critic_replay.append([orig_state,best_val])\n",
    "            # If we are in a terminal state, append a replay for it also.\n",
    "            if done:\n",
    "                critic_replay.append( [new_state, float(new_reward)] )\n",
    "            \n",
    "            # Build the update for the Actor. The actor is updated\n",
    "            # by using the difference of the value the critic\n",
    "            # placed on the old state vs. the value the critic\n",
    "            # places on the new state.. encouraging the actor\n",
    "            # to move into more valuable states.\n",
    "            actor_delta = new_val - orig_val                \n",
    "            actor_replay.append([orig_state, action, actor_delta])\n",
    "                    \n",
    "            # Critic Replays...\n",
    "            while(len(critic_replay) > buffer): # Trim replay buffer\n",
    "                critic_replay.pop(0)\n",
    "            # Start training when we have enough samples.\n",
    "            if(len(critic_replay) >= buffer):\n",
    "                minibatch = random.sample(critic_replay, batchSize)\n",
    "                X_train = []\n",
    "                y_train = []\n",
    "                for memory in minibatch:\n",
    "                    m_state, m_value = memory\n",
    "                    y = np.empty([1])\n",
    "                    y[0] = m_value\n",
    "                    X_train.append(m_state.reshape((OBSERVATION_SPACE,)))\n",
    "                    y_train.append(y.reshape((1,)))\n",
    "                X_train = np.array(X_train)\n",
    "                y_train = np.array(y_train)\n",
    "                critic_model.fit(X_train, y_train, batch_size=batchSize, nb_epoch=1, verbose=0)\n",
    "            \n",
    "            # Actor Replays...\n",
    "            while(len(actor_replay) > buffer):\n",
    "                actor_replay.pop(0)                \n",
    "            if(len(actor_replay) >= buffer):\n",
    "                X_train = []\n",
    "                y_train = []\n",
    "                minibatch = random.sample(actor_replay, batchSize)\n",
    "                for memory in minibatch:\n",
    "                    m_orig_state, m_action, m_value = memory\n",
    "                    old_qval = actor_model.predict( m_orig_state.reshape(1,OBSERVATION_SPACE,) )\n",
    "                    y = np.zeros(( 1, ACTION_SPACE ))\n",
    "                    y[:] = old_qval[:]\n",
    "                    # non-standard - decay actions we aren't selecting on this turn.\n",
    "                    #y[:] = old_qval[:] * gamma\n",
    "                    y[0][m_action] = m_value\n",
    "                    X_train.append(m_orig_state.reshape((OBSERVATION_SPACE,)))\n",
    "                    y_train.append(y.reshape((ACTION_SPACE,)))\n",
    "                X_train = np.array(X_train)\n",
    "                y_train = np.array(y_train)\n",
    "                actor_model.fit(X_train, y_train, batch_size=batchSize, nb_epoch=1, verbose=0)\n",
    "\n",
    "            # Finished replays.\n",
    "            #print(\"Game #: %s\" % (i,))\n",
    "            #print(\"Accumulated win percent: %.2f%%\" % (earlystop_acc*100) )\n",
    "            #print(\"Current Reward %f\" % new_reward)\n",
    "            #env.render()\n",
    "            #print(observation)\n",
    "            #clear_output(wait=True)\n",
    "            \n",
    "            observation = new_observation\n",
    "            reward = new_reward\n",
    "            if done:\n",
    "                status = 0\n",
    "                # Count wins/losses for early-stopping.\n",
    "                if new_reward > 0 : # Win\n",
    "                    earlystop_result = 1.0\n",
    "                    wins += 1\n",
    "                else: # Loss\n",
    "                    earlystop_result = 0.0\n",
    "                    losses += 1\n",
    "                new_acc = ( earlystop_acc * earlystop_decay ) + \\\n",
    "                    ((1.0 - earlystop_decay ) * earlystop_result)\n",
    "                earlystop_acc = new_acc\n",
    "\n",
    "        # Finised Epoch\n",
    "        clear_output(wait=True)\n",
    "        print(\"Game #: %s\" % (i,))\n",
    "        print(\"Final Position:\")\n",
    "        env.render()\n",
    "        print(\"Accumulated win percent: %.2f%%\" % (earlystop_acc*100) )\n",
    "        print(\"Wins/Losses %s/%s\" % (wins, losses))\n",
    "        if epsilon > min_epsilon:\n",
    "            epsilon -= (1/epochs)\n",
    "        # Check if we can early-stop training.\n",
    "        if earlystop_acc > earlystop:\n",
    "            print(\"Early-Stopping Training\")\n",
    "            break\n",
    "            "
   ]
  },
  {
   "cell_type": "markdown",
   "metadata": {},
   "source": [
    "We'll now train the Actor/Critic for a number of epoch's which seems to give decent results."
   ]
  },
  {
   "cell_type": "code",
   "execution_count": 14,
   "metadata": {
    "collapsed": false
   },
   "outputs": [
    {
     "name": "stdout",
     "output_type": "stream",
     "text": [
      "Game #: 999\n",
      "Final Position:\n",
      "SFFFFFFF\n",
      "FFFFFFFF\n",
      "FFFHFFFF\n",
      "FFFFFHFF\n",
      "FFFHFFFF\n",
      "FHHFFFHF\n",
      "FHFFHFHF\n",
      "FFFHFFF\u001b[41mG\u001b[0m\n",
      "  (Down)\n",
      "Accumulated win percent: 87.24%\n",
      "Wins/Losses 97/903\n",
      "Wall time: 5min 51s\n"
     ]
    }
   ],
   "source": [
    "%%time\n",
    "trainer(1000,min_epsilon=0.1)"
   ]
  },
  {
   "cell_type": "markdown",
   "metadata": {},
   "source": [
    "Now we can examine what the value network has learned - and the values it has placed on any given location on the board."
   ]
  },
  {
   "cell_type": "code",
   "execution_count": 15,
   "metadata": {
    "collapsed": false
   },
   "outputs": [
    {
     "name": "stdout",
     "output_type": "stream",
     "text": [
      "\u001b[41mS\u001b[0mFFFFFFF\n",
      "FFFFFFFF\n",
      "FFFHFFFF\n",
      "FFFFFHFF\n",
      "FFFHFFFF\n",
      "FHHFFFHF\n",
      "FHFFHFHF\n",
      "FFFHFFFG\n",
      "  (Down)\n"
     ]
    },
    {
     "data": {
      "image/png": "[encoded data removed]",
      "text/plain": [
       "<matplotlib.figure.Figure at 0x9fddf60>"
      ]
     },
     "metadata": {},
     "output_type": "display_data"
    }
   ],
   "source": [
    "env.reset()\n",
    "env.render()\n",
    "plot_value(STATEGRID)\n"
   ]
  },
  {
   "cell_type": "markdown",
   "metadata": {},
   "source": [
    "We can see that the value network has placed a high value on the winning final position. That value equaling the reward gained when in that position. It also places a very low value on the 'hole' positions. Makes sense. Then we can see that the network places ever growing value on positions which move us closer to the winning position. Thus the value network can express to the policy network that a move which moves us closer to the winning position is more valuable. Lets take a look at what the policy network has learned."
   ]
  },
  {
   "cell_type": "code",
   "execution_count": 16,
   "metadata": {
    "collapsed": false
   },
   "outputs": [
    {
     "name": "stdout",
     "output_type": "stream",
     "text": [
      "\u001b[41mS\u001b[0mFFFFFFF\n",
      "FFFFFFFF\n",
      "FFFHFFFF\n",
      "FFFFFHFF\n",
      "FFFHFFFF\n",
      "FHHFFFHF\n",
      "FHFFHFHF\n",
      "FFFHFFFG\n",
      "  (Down)\n",
      "[['>' '>' '>' '>' 'v' '>' '^' 'v']\n",
      " ['v' '>' '>' '>' '>' 'v' 'v' 'v']\n",
      " ['>' '>' 'v' '>' '>' '>' 'v' 'v']\n",
      " ['>' '>' '>' '>' '^' '>' 'v' '<']\n",
      " ['>' '>' '<' '>' 'v' '>' '>' 'v']\n",
      " ['^' 'v' 'v' '>' '>' '^' '>' 'v']\n",
      " ['>' '>' '>' '^' 'v' 'v' '^' 'v']\n",
      " ['>' '>' '>' 'v' '>' '>' '>' '>']]\n"
     ]
    }
   ],
   "source": [
    "# Maps actions to arrows to indicate move direction.\n",
    "A2A=['<','v','>','^']\n",
    "def show_policy(initial_state):\n",
    "    grid = np.zeros((OBS_SQR,OBS_SQR), dtype='<U2')\n",
    "    #working_state = initial_state.copy()\n",
    "    #p = findLoc(working_state, np.array([0,0,0,1]))\n",
    "    #working_state[p[0],p[1]] = np.array([0,0,0,0])\n",
    "    for x in range(0,OBS_SQR):\n",
    "        for y in range(0,OBS_SQR):\n",
    "            #for a in range(0, 4):\n",
    "            my_state = initial_state.copy()\n",
    "            my_state[x,y] = 1\n",
    "            #\n",
    "            obs_predict = my_state.reshape(1,OBSERVATION_SPACE,)\n",
    "            qval = actor_model.predict(obs_predict)\n",
    "            #print(obs_predict)\n",
    "            \n",
    "            action = (np.argmax(qval))\n",
    "            grid[x,y] = A2A[action]\n",
    "    grid\n",
    "    return grid\n",
    "\n",
    "env.reset()\n",
    "env.render()\n",
    "print(show_policy(STATEGRID))"
   ]
  },
  {
   "cell_type": "markdown",
   "metadata": {},
   "source": [
    "Now we'll have our learner show us what it has learned. It is important to note, that when testing, we only need the actor/policy network. The critic network is not involved. The Actor has learned the correct policy/moves as it trains on the values supplied by the critic network."
   ]
  },
  {
   "cell_type": "code",
   "execution_count": 18,
   "metadata": {
    "collapsed": false
   },
   "outputs": [
    {
     "name": "stdout",
     "output_type": "stream",
     "text": [
      ">\n",
      "S\u001b[41mF\u001b[0mFFFFFF\n",
      "FFFFFFFF\n",
      "FFFHFFFF\n",
      "FFFFFHFF\n",
      "FFFHFFFF\n",
      "FHHFFFHF\n",
      "FHFFHFHF\n",
      "FFFHFFFG\n",
      "  (Right)\n",
      ">\n",
      "SF\u001b[41mF\u001b[0mFFFFF\n",
      "FFFFFFFF\n",
      "FFFHFFFF\n",
      "FFFFFHFF\n",
      "FFFHFFFF\n",
      "FHHFFFHF\n",
      "FHFFHFHF\n",
      "FFFHFFFG\n",
      "  (Right)\n",
      ">\n",
      "SFF\u001b[41mF\u001b[0mFFFF\n",
      "FFFFFFFF\n",
      "FFFHFFFF\n",
      "FFFFFHFF\n",
      "FFFHFFFF\n",
      "FHHFFFHF\n",
      "FHFFHFHF\n",
      "FFFHFFFG\n",
      "  (Right)\n",
      ">\n",
      "SFFF\u001b[41mF\u001b[0mFFF\n",
      "FFFFFFFF\n",
      "FFFHFFFF\n",
      "FFFFFHFF\n",
      "FFFHFFFF\n",
      "FHHFFFHF\n",
      "FHFFHFHF\n",
      "FFFHFFFG\n",
      "  (Right)\n",
      "v\n",
      "SFFFFFFF\n",
      "FFFF\u001b[41mF\u001b[0mFFF\n",
      "FFFHFFFF\n",
      "FFFFFHFF\n",
      "FFFHFFFF\n",
      "FHHFFFHF\n",
      "FHFFHFHF\n",
      "FFFHFFFG\n",
      "  (Down)\n",
      ">\n",
      "SFFFFFFF\n",
      "FFFFF\u001b[41mF\u001b[0mFF\n",
      "FFFHFFFF\n",
      "FFFFFHFF\n",
      "FFFHFFFF\n",
      "FHHFFFHF\n",
      "FHFFHFHF\n",
      "FFFHFFFG\n",
      "  (Right)\n",
      "v\n",
      "SFFFFFFF\n",
      "FFFFFFFF\n",
      "FFFHF\u001b[41mF\u001b[0mFF\n",
      "FFFFFHFF\n",
      "FFFHFFFF\n",
      "FHHFFFHF\n",
      "FHFFHFHF\n",
      "FFFHFFFG\n",
      "  (Down)\n",
      ">\n",
      "SFFFFFFF\n",
      "FFFFFFFF\n",
      "FFFHFF\u001b[41mF\u001b[0mF\n",
      "FFFFFHFF\n",
      "FFFHFFFF\n",
      "FHHFFFHF\n",
      "FHFFHFHF\n",
      "FFFHFFFG\n",
      "  (Right)\n",
      "v\n",
      "SFFFFFFF\n",
      "FFFFFFFF\n",
      "FFFHFFFF\n",
      "FFFFFH\u001b[41mF\u001b[0mF\n",
      "FFFHFFFF\n",
      "FHHFFFHF\n",
      "FHFFHFHF\n",
      "FFFHFFFG\n",
      "  (Down)\n",
      "v\n",
      "SFFFFFFF\n",
      "FFFFFFFF\n",
      "FFFHFFFF\n",
      "FFFFFHFF\n",
      "FFFHFF\u001b[41mF\u001b[0mF\n",
      "FHHFFFHF\n",
      "FHFFHFHF\n",
      "FFFHFFFG\n",
      "  (Down)\n",
      ">\n",
      "SFFFFFFF\n",
      "FFFFFFFF\n",
      "FFFHFFFF\n",
      "FFFFFHFF\n",
      "FFFHFFF\u001b[41mF\u001b[0m\n",
      "FHHFFFHF\n",
      "FHFFHFHF\n",
      "FFFHFFFG\n",
      "  (Right)\n",
      "v\n",
      "SFFFFFFF\n",
      "FFFFFFFF\n",
      "FFFHFFFF\n",
      "FFFFFHFF\n",
      "FFFHFFFF\n",
      "FHHFFFH\u001b[41mF\u001b[0m\n",
      "FHFFHFHF\n",
      "FFFHFFFG\n",
      "  (Down)\n",
      "v\n",
      "SFFFFFFF\n",
      "FFFFFFFF\n",
      "FFFHFFFF\n",
      "FFFFFHFF\n",
      "FFFHFFFF\n",
      "FHHFFFHF\n",
      "FHFFHFH\u001b[41mF\u001b[0m\n",
      "FFFHFFFG\n",
      "  (Down)\n",
      "v\n",
      "SFFFFFFF\n",
      "FFFFFFFF\n",
      "FFFHFFFF\n",
      "FFFFFHFF\n",
      "FFFHFFFF\n",
      "FHHFFFHF\n",
      "FHFFHFHF\n",
      "FFFHFFF\u001b[41mG\u001b[0m\n",
      "  (Down)\n",
      "SFFFFFFF\n",
      "FFFFFFFF\n",
      "FFFHFFFF\n",
      "FFFFFHFF\n",
      "FFFHFFFF\n",
      "FHHFFFHF\n",
      "FHFFHFHF\n",
      "FFFHFFF\u001b[41mG\u001b[0m\n",
      "  (Down)\n"
     ]
    }
   ],
   "source": [
    "def play(render_every_step=False):\n",
    "    observation = env.reset()\n",
    "    done = False\n",
    "    reward = 0.0\n",
    "    while not done:\n",
    "        state = to_onehot(OBSERVATION_SPACE,observation)\n",
    "        qval = actor_model.predict( state.reshape(1,OBSERVATION_SPACE) )\n",
    "        action = (np.argmax(qval))\n",
    "        observation, reward, done, info = env.step(action)\n",
    "        print(A2A[action])\n",
    "        if render_every_step:\n",
    "            env.render()\n",
    "    env.render()\n",
    "\n",
    "play(render_every_step=True)"
   ]
  },
  {
   "cell_type": "markdown",
   "metadata": {
    "collapsed": true
   },
   "source": [
    "## Conclusion\n",
    "\n",
    "We've demonstrated using an actor-critic learner to solve a toy gridworld problem. I hope this serves as a good jumping off point for folks trying to understand Actor/Critic, or other RL methods which separate the Policy network from the Value network. If you have questions or comments please leave them below!\n"
   ]
  },
  {
   "cell_type": "code",
   "execution_count": null,
   "metadata": {
    "collapsed": true
   },
   "outputs": [],
   "source": []
  }
 ],
 "metadata": {
  "kernelspec": {
   "display_name": "Python 3",
   "language": "python",
   "name": "python3"
  },
  "language_info": {
   "codemirror_mode": {
    "name": "ipython",
    "version": 3
   },
   "file_extension": ".py",
   "mimetype": "text/x-python",
   "name": "python",
   "nbconvert_exporter": "python",
   "pygments_lexer": "ipython3",
   "version": "3.4.4"
  }
 },
 "nbformat": 4,
 "nbformat_minor": 0
}
