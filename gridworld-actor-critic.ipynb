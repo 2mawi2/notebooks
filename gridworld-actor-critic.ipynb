{
 "cells": [
  {
   "cell_type": "markdown",
   "metadata": {},
   "source": [
    "### Playing Gridworld using Actor/Critic\n",
    "\n",
    "#### Introduction\n",
    "\n",
    "This tutorial builds off of [Outlace's excelent blog entry on Q-Learning](http://outlace.com/Reinforcement-Learning-Part-3/) and this is the [starting point](https://www2.informatik.uni-hamburg.de/~weber/code/ActorCritic.py) for my Actor Critic implementation.\n",
    "\n",
    "I got interested in Actor-Critic reinforcement learning after skimming DeepMind's follow-up to their original Atari paper. The new paper [Asynchronous Methods for Deep Reinforcement Learning](http://arxiv.org/abs/1602.01783) uses an Actor/Critic learning implementation to surpass the performance of their original Deep Q-Network. I couldn't find a good straightforward implementation/example of it.\n",
    "\n",
    "For a slightly more in-depth explination check out [Actor-Critic Methods](https://webdocs.cs.ualberta.ca/~sutton/book/ebook/node66.html) from the book 'Reinforcement Learning: An Introduction' by Sutton and Barto\n"
   ]
  },
  {
   "cell_type": "markdown",
   "metadata": {},
   "source": [
    "# Our Gridworld\n",
    "\n",
    "This is the gridworld implementation from [the original Q-learning tutorial](http://outlace.com/Reinforcement-Learning-Part-3/) which we will use as the environment for our Actor/Critic learner."
   ]
  },
  {
   "cell_type": "code",
   "execution_count": 114,
   "metadata": {
    "collapsed": true
   },
   "outputs": [],
   "source": [
    "import numpy as np\n",
    "\n",
    "def randPair(s,e):\n",
    "    return np.random.randint(s,e), np.random.randint(s,e)\n",
    "\n",
    "#finds an array in the \"depth\" dimension of the grid\n",
    "def findLoc(state, obj):\n",
    "    for i in range(0,4):\n",
    "        for j in range(0,4):\n",
    "            if (state[i,j] == obj).all():\n",
    "                return i,j\n",
    "\n",
    "#Initialize stationary grid, all items are placed deterministically\n",
    "def initGrid():\n",
    "    state = np.zeros((4,4,4))\n",
    "    #place player\n",
    "    state[0,1] = np.array([0,0,0,1])\n",
    "    #place wall\n",
    "    state[2,2] = np.array([0,0,1,0])\n",
    "    #place pit\n",
    "    state[1,1] = np.array([0,1,0,0])\n",
    "    #place goal\n",
    "    state[3,3] = np.array([1,0,0,0])\n",
    "    \n",
    "    return state\n",
    "\n",
    "#Initialize player in random location, but keep wall, goal and pit stationary\n",
    "def initGridPlayer():\n",
    "    state = np.zeros((4,4,4))\n",
    "    #place player\n",
    "    state[randPair(0,4)] = np.array([0,0,0,1])\n",
    "    #place wall\n",
    "    state[2,2] = np.array([0,0,1,0])\n",
    "    #place pit\n",
    "    state[1,1] = np.array([0,1,0,0])\n",
    "    #place goal\n",
    "    state[1,2] = np.array([1,0,0,0])\n",
    "    \n",
    "    a = findLoc(state, np.array([0,0,0,1])) #find grid position of player (agent)\n",
    "    w = findLoc(state, np.array([0,0,1,0])) #find wall\n",
    "    g = findLoc(state, np.array([1,0,0,0])) #find goal\n",
    "    p = findLoc(state, np.array([0,1,0,0])) #find pit\n",
    "    if (not a or not w or not g or not p):\n",
    "        #print('Invalid grid. Rebuilding..')\n",
    "        return initGridPlayer()\n",
    "    \n",
    "    return state\n",
    "\n",
    "#Initialize grid so that goal, pit, wall, player are all randomly placed\n",
    "def initGridRand():\n",
    "    state = np.zeros((4,4,4))\n",
    "    #place player\n",
    "    state[randPair(0,4)] = np.array([0,0,0,1])\n",
    "    #place wall\n",
    "    state[randPair(0,4)] = np.array([0,0,1,0])\n",
    "    #place pit\n",
    "    state[randPair(0,4)] = np.array([0,1,0,0])\n",
    "    #place goal\n",
    "    state[randPair(0,4)] = np.array([1,0,0,0])\n",
    "    \n",
    "    a = findLoc(state, np.array([0,0,0,1]))\n",
    "    w = findLoc(state, np.array([0,0,1,0]))\n",
    "    g = findLoc(state, np.array([1,0,0,0]))\n",
    "    p = findLoc(state, np.array([0,1,0,0]))\n",
    "    #If any of the \"objects\" are superimposed, just call the function again to re-place\n",
    "    if (not a or not w or not g or not p):\n",
    "        #print('Invalid grid. Rebuilding..')\n",
    "        return initGridRand()\n",
    "    \n",
    "    return state\n",
    "\n",
    "def makeMove(state, action):\n",
    "    #need to locate player in grid\n",
    "    #need to determine what object (if any) is in the new grid spot the player is moving to\n",
    "    player_loc = findLoc(state, np.array([0,0,0,1]))\n",
    "    wall = findLoc(state, np.array([0,0,1,0]))\n",
    "    goal = findLoc(state, np.array([1,0,0,0]))\n",
    "    pit = findLoc(state, np.array([0,1,0,0]))\n",
    "    state = np.zeros((4,4,4))\n",
    "    \n",
    "    #up (row - 1)\n",
    "    if action==0:\n",
    "        new_loc = (player_loc[0] - 1, player_loc[1])\n",
    "        if (new_loc != wall):\n",
    "            if ((np.array(new_loc) <= (3,3)).all() and (np.array(new_loc) >= (0,0)).all()):\n",
    "                state[new_loc][3] = 1\n",
    "    #down (row + 1)\n",
    "    elif action==1:\n",
    "        new_loc = (player_loc[0] + 1, player_loc[1])\n",
    "        if (new_loc != wall):\n",
    "            if ((np.array(new_loc) <= (3,3)).all() and (np.array(new_loc) >= (0,0)).all()):\n",
    "                state[new_loc][3] = 1\n",
    "    #left (column - 1)\n",
    "    elif action==2:\n",
    "        new_loc = (player_loc[0], player_loc[1] - 1)\n",
    "        if (new_loc != wall):\n",
    "            if ((np.array(new_loc) <= (3,3)).all() and (np.array(new_loc) >= (0,0)).all()):\n",
    "                state[new_loc][3] = 1\n",
    "    #right (column + 1)\n",
    "    elif action==3:\n",
    "        new_loc = (player_loc[0], player_loc[1] + 1)\n",
    "        if (new_loc != wall):\n",
    "            if ((np.array(new_loc) <= (3,3)).all() and (np.array(new_loc) >= (0,0)).all()):\n",
    "                state[new_loc][3] = 1\n",
    "                \n",
    "    new_player_loc = findLoc(state, np.array([0,0,0,1]))\n",
    "    if (not new_player_loc):\n",
    "        state[player_loc] = np.array([0,0,0,1])\n",
    "    #re-place pit\n",
    "    state[pit][1] = 1\n",
    "    #re-place wall\n",
    "    state[wall][2] = 1\n",
    "    #re-place goal\n",
    "    state[goal][0] = 1\n",
    "    \n",
    "    return state\n",
    "\n",
    "def getLoc(state, level):\n",
    "    for i in range(0,4):\n",
    "        for j in range(0,4):\n",
    "            if (state[i,j][level] == 1):\n",
    "                return i,j\n",
    "\n",
    "def getReward(state):\n",
    "    player_loc = getLoc(state, 3)\n",
    "    pit = getLoc(state, 1)\n",
    "    goal = getLoc(state, 0)\n",
    "    if (player_loc == pit):\n",
    "        return -10\n",
    "    elif (player_loc == goal):\n",
    "        return 10\n",
    "    else:\n",
    "        return -1\n",
    "    \n",
    "def dispGrid(state):\n",
    "    grid = np.zeros((4,4), dtype='<U2')\n",
    "    player_loc = findLoc(state, np.array([0,0,0,1]))\n",
    "    wall = findLoc(state, np.array([0,0,1,0]))\n",
    "    goal = findLoc(state, np.array([1,0,0,0]))\n",
    "    pit = findLoc(state, np.array([0,1,0,0]))\n",
    "    for i in range(0,4):\n",
    "        for j in range(0,4):\n",
    "            grid[i,j] = ' '\n",
    "            \n",
    "    if player_loc:\n",
    "        grid[player_loc] = 'P' #player\n",
    "    if wall:\n",
    "        grid[wall] = 'W' #wall\n",
    "    if goal:\n",
    "        grid[goal] = '+' #goal\n",
    "    if pit:\n",
    "        grid[pit] = '-' #pit\n",
    "    \n",
    "    return grid\n"
   ]
  },
  {
   "cell_type": "markdown",
   "metadata": {},
   "source": [
    "Lets make sure our original implementation is working before we continue..."
   ]
  },
  {
   "cell_type": "code",
   "execution_count": 115,
   "metadata": {
    "collapsed": false
   },
   "outputs": [
    {
     "data": {
      "text/plain": [
       "array([[' ', 'P', ' ', ' '],\n",
       "       [' ', '-', ' ', ' '],\n",
       "       [' ', ' ', 'W', ' '],\n",
       "       [' ', ' ', ' ', '+']], \n",
       "      dtype='<U2')"
      ]
     },
     "execution_count": 115,
     "metadata": {},
     "output_type": "execute_result"
    }
   ],
   "source": [
    "state = initGrid()\n",
    "dispGrid(state)"
   ]
  },
  {
   "cell_type": "markdown",
   "metadata": {},
   "source": [
    "And move our player into the winning position."
   ]
  },
  {
   "cell_type": "code",
   "execution_count": 116,
   "metadata": {
    "collapsed": false
   },
   "outputs": [
    {
     "name": "stdout",
     "output_type": "stream",
     "text": [
      "Reward: 10\n"
     ]
    },
    {
     "data": {
      "text/plain": [
       "array([[' ', ' ', ' ', ' '],\n",
       "       [' ', '-', ' ', ' '],\n",
       "       [' ', ' ', 'W', ' '],\n",
       "       [' ', ' ', ' ', ' ']], \n",
       "      dtype='<U2')"
      ]
     },
     "execution_count": 116,
     "metadata": {},
     "output_type": "execute_result"
    }
   ],
   "source": [
    "LEFT=2\n",
    "RIGHT=3\n",
    "UP=0\n",
    "DOWN=1\n",
    "state = initGrid()\n",
    "state = makeMove(state, RIGHT)\n",
    "state = makeMove(state, RIGHT)\n",
    "state = makeMove(state, DOWN)\n",
    "state = makeMove(state, DOWN)\n",
    "state = makeMove(state, DOWN)\n",
    "print('Reward: %s' % (getReward(state),))\n",
    "dispGrid(state)\n"
   ]
  },
  {
   "cell_type": "markdown",
   "metadata": {},
   "source": [
    "# The Actor\n",
    "\n",
    "In Actor/Critic there are two networks. The 'policy' network (the Actor) and the 'value' network (the Critic). You will recognize the policy network as being essentially the same as the network from the Q-Learning example."
   ]
  },
  {
   "cell_type": "code",
   "execution_count": 117,
   "metadata": {
    "collapsed": false
   },
   "outputs": [],
   "source": [
    "from keras.models import Sequential\n",
    "from keras.layers.core import Dense, Dropout, Activation\n",
    "from keras.optimizers import RMSprop"
   ]
  },
  {
   "cell_type": "code",
   "execution_count": 118,
   "metadata": {
    "collapsed": false
   },
   "outputs": [],
   "source": [
    "actor_model = Sequential()\n",
    "actor_model.add(Dense(164, init='lecun_uniform', input_shape=(64,)))\n",
    "actor_model.add(Activation('relu'))\n",
    "\n",
    "actor_model.add(Dense(150, init='lecun_uniform'))\n",
    "actor_model.add(Activation('relu'))\n",
    "\n",
    "actor_model.add(Dense(4, init='lecun_uniform'))\n",
    "actor_model.add(Activation('linear')) #linear output so we can have range of real-valued outputs\n",
    "\n",
    "rms = RMSprop()\n",
    "actor_model.compile(loss='mse', optimizer=rms)"
   ]
  },
  {
   "cell_type": "markdown",
   "metadata": {},
   "source": [
    "Next, we set up the Critic network. This network looks very similar to the Actor model, but only outputs a single value - it outputs a value (the score) for the input state."
   ]
  },
  {
   "cell_type": "code",
   "execution_count": 119,
   "metadata": {
    "collapsed": false
   },
   "outputs": [],
   "source": [
    "critic_model = Sequential()\n",
    "critic_model.add(Dense(192, init='lecun_uniform', input_shape=(64,), activation='relu'))\n",
    "critic_model.add(Dense(128, init='lecun_uniform', activation='relu'))\n",
    "critic_model.add(Dense(1, init='lecun_uniform', activation='linear' ))\n",
    "rms = RMSprop()\n",
    "critic_model.compile(loss='mse', optimizer=rms)\n",
    "    "
   ]
  },
  {
   "cell_type": "markdown",
   "metadata": {},
   "source": [
    "The 'test' stays essentially the same. It is important to note, that when testing, we only need the actor/policy network. The critic network is not involved. The Actor has learned the correct policy/moves as it trains on the values supplied by the critic network."
   ]
  },
  {
   "cell_type": "code",
   "execution_count": 120,
   "metadata": {
    "collapsed": true
   },
   "outputs": [],
   "source": [
    "def testAlgo(game_type='easy'):\n",
    "    i = 0\n",
    "    if game_type=='hard':\n",
    "        state = initGridRand()\n",
    "    elif game_type=='medium':\n",
    "        state = initGridPlayer()\n",
    "    else:\n",
    "        state = initGrid()\n",
    "\n",
    "    print(\"Initial State:\")\n",
    "    print(dispGrid(state))\n",
    "    status = 1\n",
    "    #while game still in progress\n",
    "    while(status == 1):\n",
    "        qval = actor_model.predict(state.reshape(1,64), batch_size=1)\n",
    "        action = (np.argmax(qval)) #take action with highest Q-value\n",
    "        print('Move #: %s; Taking action: %s' % (i, action))\n",
    "        state = makeMove(state, action)\n",
    "        print(dispGrid(state))\n",
    "        reward = getReward(state)\n",
    "        if reward != -1:\n",
    "            status = 0\n",
    "            print(\"Reward: %s\" % (reward,))\n",
    "        i += 1 #If we're taking more than 10 actions, just stop, we probably can't win this game\n",
    "        if (i > 10):\n",
    "            print(\"Game lost; too many moves.\")\n",
    "            break"
   ]
  },
  {
   "cell_type": "markdown",
   "metadata": {},
   "source": [
    "# The Trainer\n",
    "\n",
    "The trainer is implemented below. Items of note.\n",
    "* __early stopping__ the trainer implements early-stopping. If the game is winning a given percentage of the time (99% is the default) then the trainer will stop early. No point training any further.\n",
    "* __experience replay__ essentially the same as the example in the Q-learning tutorial. However we replay both the Actor and the Critic's experiences\n",
    "\n",
    "The big main new things here are the split of the Critic network, and state values, from the Actor, and action selection.\n",
    "\n",
    "To train the critic network, we use a simlar process to training value into Q networks. We look at the initial state, make a move, and then look at the new state. For the value network, if we are in a terminal state, that's the value we tell the value network to place on that state. If we are in a non-terminal state, we tell the value network to place a value on the original state which is the reward in the original state, plus the discounted value from the new state. Note that the value network should return the maximum possible value for a given state. If the player's next move could be either jumping into the pit or arriving at the goal, we should set the value as if the best-possible action will be selected.\n",
    "\n",
    "After the critic network has assigned a value to the original and the new state, we adjust the policy. This is simply by looking at our value in our old state, and the value in the new state. If the value improves we encourage that action. If it decreases we discourage the action.\n",
    "\n",
    "When we start training, both the actor and the critic networks are spitting out nonsensical values. Which means initially the actor network is training on values from the critic network which are garbage. However as the critic network improves, those improvements naturally correct and improve the performance of the actor network.\n",
    "\n"
   ]
  },
  {
   "cell_type": "code",
   "execution_count": 121,
   "metadata": {
    "collapsed": false
   },
   "outputs": [],
   "source": [
    "from IPython.display import clear_output\n",
    "import random\n",
    "import time\n",
    "\n",
    "\n",
    "def trainer(game_type='easy',epochs=1000, batchSize=40, \n",
    "            gamma=0.9, epsilon=1,\n",
    "            buffer=80,earlystop=0.99):\n",
    "    \n",
    "    epochs = 1000\n",
    "    status = 1\n",
    "    \n",
    "    # Early-stopping.\n",
    "    earlystop_acc = 0.0\n",
    "    earlystop_decay = 0.9\n",
    "        \n",
    "    # Replay buffers\n",
    "    actor_replay = []\n",
    "    critic_replay = []\n",
    "    \n",
    "    for i in range(epochs):\n",
    "        if game_type == 'hard':\n",
    "            state = initGridRand()\n",
    "        elif game_type == 'medium':\n",
    "            state = initGridPlayer()\n",
    "        else:\n",
    "            state = initGrid() # easy\n",
    "\n",
    "        status = 1\n",
    "        #while game still in progress\n",
    "        while(status == 1):\n",
    "            # Get original state, original reward, and critic's value for this state.\n",
    "            orig_state = np.copy(state)\n",
    "            orig_reward = getReward(orig_state)\n",
    "            orig_val = critic_model.predict(orig_state.reshape(1,64))\n",
    "\n",
    "            if (random.random() < epsilon): #choose random action\n",
    "                action = np.random.randint(0,4)\n",
    "            else: #choose best action from Q(s,a) values\n",
    "                qval = actor_model.predict( orig_state.reshape(1,64) )\n",
    "                action = (np.argmax(qval))\n",
    "                \n",
    "            #Take action, observe new state S'\n",
    "            new_state = makeMove(state, action)\n",
    "            #Observe reward\n",
    "            new_reward = getReward(new_state)\n",
    "            \n",
    "            # Critic's value for this new state.\n",
    "            new_val = critic_model.predict(new_state.reshape(1,64))\n",
    "            \n",
    "            if new_reward == -1: # Non-terminal state.\n",
    "                target = orig_reward + ( gamma * new_val)\n",
    "            else:\n",
    "                # In terminal states, the environment tells us\n",
    "                # the value directly.\n",
    "                target = orig_reward + ( gamma * new_reward )\n",
    "            \n",
    "            # Now append this to our critic replay buffer.\n",
    "            critic_replay.append([orig_state,max(orig_val,target)])\n",
    "            # If we are in a terminal state, append a replay for it also.\n",
    "            if new_reward != -1:\n",
    "                critic_replay.append( [new_state, (new_reward * 1.0)] )\n",
    "            \n",
    "            # Build the update for the Actor. The actor is updated\n",
    "            # by using the difference of the value the critic\n",
    "            # placed on the old state vs. the value the critic\n",
    "            # places on the new state.. encouraging the actor\n",
    "            # to move into more valuable states.\n",
    "            actor_delta = new_val - orig_val                \n",
    "            actor_replay.append([orig_state, action, actor_delta])\n",
    "                    \n",
    "            # Critic Replays...\n",
    "            while(len(critic_replay) > buffer): # Trim replay buffer\n",
    "                critic_replay.pop(0)\n",
    "            # Start training when we have enough samples.\n",
    "            if(len(critic_replay) >= buffer):\n",
    "                minibatch = random.sample(critic_replay, batchSize)\n",
    "                X_train = []\n",
    "                y_train = []\n",
    "                for memory in minibatch:\n",
    "                    m_state, m_value = memory\n",
    "                    y = np.empty([1])\n",
    "                    y[0] = m_value\n",
    "                    X_train.append(m_state.reshape((64,)))\n",
    "                    y_train.append(y.reshape((1,)))\n",
    "                X_train = np.array(X_train)\n",
    "                y_train = np.array(y_train)\n",
    "                critic_model.fit(X_train, y_train, batch_size=batchSize, nb_epoch=1, verbose=0)\n",
    "            \n",
    "            # Actor Replays...\n",
    "            while(len(actor_replay) > buffer):\n",
    "                actor_replay.pop(0)                \n",
    "            if(len(actor_replay) >= buffer):\n",
    "                X_train = []\n",
    "                y_train = []\n",
    "                minibatch = random.sample(actor_replay, batchSize)\n",
    "                for memory in minibatch:\n",
    "                    m_orig_state, m_action, m_value = memory\n",
    "                    old_qval = actor_model.predict( m_orig_state.reshape(1,64,) )\n",
    "                    y = np.zeros(( 1, 4 ))\n",
    "                    y[:] = old_qval[:]\n",
    "                    y[0][m_action] = m_value\n",
    "                    X_train.append(m_orig_state.reshape((64,)))\n",
    "                    y_train.append(y.reshape((4,)))\n",
    "                X_train = np.array(X_train)\n",
    "                y_train = np.array(y_train)\n",
    "                actor_model.fit(X_train, y_train, batch_size=batchSize, nb_epoch=1, verbose=0)\n",
    "                \n",
    "                \n",
    "                # Final part.\n",
    "                \n",
    "            state = new_state\n",
    "            if new_reward != -1:\n",
    "                status = 0\n",
    "                # Count wins/losses for early-stopping.\n",
    "                if new_reward == -10: # Loss\n",
    "                    earlystop_result = 0.0\n",
    "                elif new_reward == 10: # Win\n",
    "                    earlystop_result = 1.0\n",
    "                new_acc = ( earlystop_acc * earlystop_decay ) + \\\n",
    "                    ((1.0 - earlystop_decay ) * earlystop_result)\n",
    "                earlystop_acc = new_acc\n",
    "            #clear_output(wait=True)\n",
    "\n",
    "        # Finised Epoch\n",
    "        clear_output(wait=True)\n",
    "        print(\"Game #: %s\" % (i,))\n",
    "        print(\"Accumulated win percent: %.2f%%\" % (earlystop_acc*100) )\n",
    "\n",
    "        if epsilon > 0.1:\n",
    "            epsilon -= (1/epochs)\n",
    "        # Check if we can early-stop training.\n",
    "        if earlystop_acc > earlystop:\n",
    "            print(\"Early-Stopping Training\")\n",
    "            break\n",
    "            "
   ]
  },
  {
   "cell_type": "code",
   "execution_count": 122,
   "metadata": {
    "collapsed": false
   },
   "outputs": [
    {
     "name": "stdout",
     "output_type": "stream",
     "text": [
      "Game #: 808\n",
      "Accumulated win percent: 99.02%\n",
      "Early-Stopping Training\n"
     ]
    }
   ],
   "source": [
    "trainer()"
   ]
  },
  {
   "cell_type": "markdown",
   "metadata": {},
   "source": [
    "For me, the training early-stops after acheving better than a 99% score. Well before 1000 epochs are complete. Lets see how we did by testing the model."
   ]
  },
  {
   "cell_type": "code",
   "execution_count": 123,
   "metadata": {
    "collapsed": false
   },
   "outputs": [
    {
     "name": "stdout",
     "output_type": "stream",
     "text": [
      "Initial State:\n",
      "[[' ' 'P' ' ' ' ']\n",
      " [' ' '-' ' ' ' ']\n",
      " [' ' ' ' 'W' ' ']\n",
      " [' ' ' ' ' ' '+']]\n",
      "Move #: 0; Taking action: 3\n",
      "[[' ' ' ' 'P' ' ']\n",
      " [' ' '-' ' ' ' ']\n",
      " [' ' ' ' 'W' ' ']\n",
      " [' ' ' ' ' ' '+']]\n",
      "Move #: 1; Taking action: 1\n",
      "[[' ' ' ' ' ' ' ']\n",
      " [' ' '-' 'P' ' ']\n",
      " [' ' ' ' 'W' ' ']\n",
      " [' ' ' ' ' ' '+']]\n",
      "Move #: 2; Taking action: 3\n",
      "[[' ' ' ' ' ' ' ']\n",
      " [' ' '-' ' ' 'P']\n",
      " [' ' ' ' 'W' ' ']\n",
      " [' ' ' ' ' ' '+']]\n",
      "Move #: 3; Taking action: 1\n",
      "[[' ' ' ' ' ' ' ']\n",
      " [' ' '-' ' ' ' ']\n",
      " [' ' ' ' 'W' 'P']\n",
      " [' ' ' ' ' ' '+']]\n",
      "Move #: 4; Taking action: 1\n",
      "[[' ' ' ' ' ' ' ']\n",
      " [' ' '-' ' ' ' ']\n",
      " [' ' ' ' 'W' ' ']\n",
      " [' ' ' ' ' ' ' ']]\n",
      "Reward: 10\n"
     ]
    }
   ],
   "source": [
    "testAlgo()"
   ]
  },
  {
   "cell_type": "markdown",
   "metadata": {},
   "source": [
    "Now we can examine what the value network has learned - and the values it has placed on any given location on the board."
   ]
  },
  {
   "cell_type": "code",
   "execution_count": 124,
   "metadata": {
    "collapsed": false
   },
   "outputs": [
    {
     "name": "stdout",
     "output_type": "stream",
     "text": [
      "Populating the interactive namespace from numpy and matplotlib\n",
      "Board State:\n",
      "[[' ' ' ' ' ' ' ']\n",
      " [' ' '-' ' ' ' ']\n",
      " [' ' ' ' 'W' ' ']\n",
      " [' ' ' ' ' ' '+']]\n"
     ]
    },
    {
     "name": "stderr",
     "output_type": "stream",
     "text": [
      "WARNING: pylab import has clobbered these variables: ['random']\n",
      "`%matplotlib` prevents importing * from pylab and numpy\n"
     ]
    },
    {
     "data": {
      "image/png": "[encoded data removed]",
      "text/plain": [
       "<matplotlib.figure.Figure at 0xd70d6a0>"
      ]
     },
     "metadata": {},
     "output_type": "display_data"
    }
   ],
   "source": [
    "%pylab inline\n",
    "import numpy as np\n",
    "\n",
    "\n",
    "initial_state = initGrid()\n",
    "# Remove Player\n",
    "initial_state[0,1] = np.array([0,0,0,0])\n",
    "\n",
    "def plot_value():\n",
    "    np_w_cri_r = np.zeros((4,4))\n",
    "    for x in range(0,4):\n",
    "        for y in range(0,4):\n",
    "            state = initial_state.copy()\n",
    "            # Place the player at a given X/Y location.\n",
    "            state[x,y,3] = 1\n",
    "            # And now have the critic model predict the state value\n",
    "            # with the player in that location.\n",
    "            value = critic_model.predict(state.reshape(1, 64))\n",
    "            #print(\"x,y: %s, %s - value %f\" % (x, y, value) )\n",
    "            np_w_cri_r[x,y] = value\n",
    "    np_w_cri_r.shape\n",
    "    pylab.pcolor(np_w_cri_r)\n",
    "    pylab.title(\"Value Network\")\n",
    "    pylab.colorbar()\n",
    "    pylab.xlabel(\"X\")\n",
    "    pylab.ylabel(\"Y\")\n",
    "    pylab.gca().invert_yaxis()\n",
    "    pylab.draw()\n",
    "\n",
    "print(\"Board State:\")\n",
    "print(dispGrid(initial_state))\n",
    "plot_value()\n"
   ]
  },
  {
   "cell_type": "markdown",
   "metadata": {},
   "source": [
    "We can see that the value network has placed a high value on the winning final position. That value equaling the reward gained when in that position. It also places a very low value on the 'pit' position. Makes sense. Then we can see that the network places ever growing value on positions which move us closer to the winning position. Thus the value network can express to the policy network that a move which moves us closer to the winning position is more valuable."
   ]
  },
  {
   "cell_type": "code",
   "execution_count": null,
   "metadata": {
    "collapsed": true
   },
   "outputs": [],
   "source": []
  }
 ],
 "metadata": {
  "kernelspec": {
   "display_name": "Python 3",
   "language": "python",
   "name": "python3"
  },
  "language_info": {
   "codemirror_mode": {
    "name": "ipython",
    "version": 3
   },
   "file_extension": ".py",
   "mimetype": "text/x-python",
   "name": "python",
   "nbconvert_exporter": "python",
   "pygments_lexer": "ipython3",
   "version": "3.4.4"
  }
 },
 "nbformat": 4,
 "nbformat_minor": 0
}
